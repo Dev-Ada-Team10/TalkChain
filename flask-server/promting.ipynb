{
 "cells": [
  {
   "cell_type": "code",
   "execution_count": 14,
   "metadata": {},
   "outputs": [],
   "source": [
    "import getpass\n",
    "import os\n",
    "\n",
    "if not os.getenv(\"HUGGINGFACEHUB_API_TOKEN\"):\n",
    "    os.environ[\"HUGGINGFACEHUB_API_TOKEN\"] = getpass.getpass(\"Enter your token: \")\n"
   ]
  },
  {
   "cell_type": "code",
   "execution_count": 16,
   "metadata": {},
   "outputs": [
    {
     "name": "stderr",
     "output_type": "stream",
     "text": [
      "c:\\Users\\raman\\Downloads\\project\\flask-server\\venv\\Lib\\site-packages\\huggingface_hub\\file_download.py:142: UserWarning: `huggingface_hub` cache-system uses symlinks by default to efficiently store duplicated files but your machine does not support them in C:\\Users\\raman\\.cache\\huggingface\\hub\\models--HuggingFaceH4--zephyr-7b-beta. Caching files will still work but in a degraded version that might require more space on your disk. This warning can be disabled by setting the `HF_HUB_DISABLE_SYMLINKS_WARNING` environment variable. For more details, see https://huggingface.co/docs/huggingface_hub/how-to-cache#limitations.\n",
      "To support symlinks on Windows, you either need to activate Developer Mode or to run Python as an administrator. In order to activate developer mode, see this article: https://docs.microsoft.com/en-us/windows/apps/get-started/enable-your-device-for-development\n",
      "  warnings.warn(message)\n"
     ]
    }
   ],
   "source": [
    "from langchain_huggingface import ChatHuggingFace, HuggingFaceEndpoint\n",
    "\n",
    "llm = HuggingFaceEndpoint(\n",
    "    repo_id=\"HuggingFaceH4/zephyr-7b-beta\",\n",
    "    task=\"text-generation\",\n",
    "    max_new_tokens=512,\n",
    "    do_sample=False,\n",
    "    repetition_penalty=1.03,\n",
    ")\n",
    "\n",
    "chat_model = ChatHuggingFace(llm=llm)\n",
    "\n"
   ]
  },
  {
   "cell_type": "code",
   "execution_count": null,
   "metadata": {},
   "outputs": [
    {
     "name": "stdout",
     "output_type": "stream",
     "text": [
      "content=\"Certainly! My programming language is called Zinc, a modern, object-oriented language designed for productivity and efficiency. It's the perfect choice for developers who want a language that balances power and simplicity, making it an ideal fit for tasks ranging from rapid prototyping to enterprise-level system development. With Zinc, you'll enjoy features like static typing, first-class functions, and a rich set of libraries that make working with data and networking a breeze. Whether you're building web applications, scientific simulations, or high-performance numerical computations, Zinc has got you covered!\" additional_kwargs={} response_metadata={'token_usage': ChatCompletionOutputUsage(completion_tokens=127, prompt_tokens=26, total_tokens=153), 'model': '', 'finish_reason': 'stop'} id='run-427afc4a-88e4-4cd6-88a1-8b13a3265b93-0'\n"
     ]
    }
   ],
   "source": [
    "print(chat_model.invoke(\"Tell me a name\"))\n"
   ]
  },
  {
   "cell_type": "code",
   "execution_count": 27,
   "metadata": {},
   "outputs": [
    {
     "name": "stdout",
     "output_type": "stream",
     "text": [
      "content='I do not have access to your previous communication or context. Please provide the prompt that you believe I might be referring to so I can assist you appropriately.' additional_kwargs={} response_metadata={'token_usage': ChatCompletionOutputUsage(completion_tokens=33, prompt_tokens=30, total_tokens=63), 'model': '', 'finish_reason': 'stop'} id='run-d59bafcc-4038-49be-82e9-ac45abe76b5a-0'\n"
     ]
    }
   ],
   "source": [
    "print(chat_model.invoke(\"What prompt did I just ask you?\"))"
   ]
  }
 ],
 "metadata": {
  "kernelspec": {
   "display_name": "venv",
   "language": "python",
   "name": "python3"
  },
  "language_info": {
   "codemirror_mode": {
    "name": "ipython",
    "version": 3
   },
   "file_extension": ".py",
   "mimetype": "text/x-python",
   "name": "python",
   "nbconvert_exporter": "python",
   "pygments_lexer": "ipython3",
   "version": "3.13.1"
  }
 },
 "nbformat": 4,
 "nbformat_minor": 2
}
